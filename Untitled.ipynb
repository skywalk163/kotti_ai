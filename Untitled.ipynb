{
 "cells": [
  {
   "cell_type": "markdown",
   "id": "6f77fa61-15e1-4b30-9a00-baaa47b51185",
   "metadata": {},
   "source": [
    "# 学习kotti_ai"
   ]
  },
  {
   "cell_type": "code",
   "execution_count": null,
   "id": "df6e211d-f50d-4110-b233-94e46304f18f",
   "metadata": {},
   "outputs": [],
   "source": []
  },
  {
   "cell_type": "code",
   "execution_count": null,
   "id": "d803c04f-11f6-43c3-8ca8-9a0443efbb8a",
   "metadata": {},
   "outputs": [],
   "source": []
  },
  {
   "cell_type": "code",
   "execution_count": null,
   "id": "9c46c65d-b01d-4e1e-9f63-452cefb460c2",
   "metadata": {},
   "outputs": [],
   "source": []
  },
  {
   "cell_type": "code",
   "execution_count": null,
   "id": "480685f1-0635-4ce6-9370-e482ea093c00",
   "metadata": {},
   "outputs": [],
   "source": []
  },
  {
   "cell_type": "code",
   "execution_count": null,
   "id": "eb5faa94-6f78-4a69-aa08-b4dad6a6c01d",
   "metadata": {},
   "outputs": [],
   "source": []
  },
  {
   "cell_type": "code",
   "execution_count": null,
   "id": "5508756d-ed8c-40e4-929b-ac2c70846e3e",
   "metadata": {},
   "outputs": [],
   "source": []
  },
  {
   "cell_type": "code",
   "execution_count": null,
   "id": "725aac33-d16c-4e90-b810-cdb052c6bece",
   "metadata": {},
   "outputs": [],
   "source": []
  },
  {
   "cell_type": "code",
   "execution_count": null,
   "id": "65b1d58e-6a49-4a73-9467-5e613ed285b7",
   "metadata": {},
   "outputs": [],
   "source": []
  },
  {
   "cell_type": "markdown",
   "id": "f38414f1-e926-4206-8515-982faf9de22a",
   "metadata": {},
   "source": [
    "# 问题\n",
    "## 在将pp-shitu嵌入action后，登录后一直重复,最终报错\n",
    "```\n",
    "======================================== [{'bbox': [345, 95, 524, 585], 'rec_docs': '红牛-强化型', 'rec_scores': 0.8073724}]\n",
    "E0911 08:59:17.500499 19310 factory.h:183] RAW: Insert duplicate with tag: WeightedRandomRender\n",
    "I0911 08:59:17.500499 19310 abtest.h:67] RAW: Factory has been registed: WeightedRandomRender->EndpointRouterBase.\n",
    "I0911 08:59:18.467280 19310 general_model.cpp:490] [client]logid=0,client_cost=950.647ms,server_cost=948.723ms.\n",
    "======================================== [{'bbox': [345, 95, 524, 585], 'rec_docs': '红牛-强化型', 'rec_scores': 0.807\n",
    "```\n",
    "报错\n",
    "```\n",
    "    result = self.cookie.identify(request)\n",
    "  File \"/home/pyramid/py39/lib/python3.9/site-packages/pyramid/authentication.py\", line 986, in identify\n",
    "    userid = decoder(userid)\n",
    "  File \"/home/pyramid/py39/lib/python3.9/site-packages/pyramid/authentication.py\", line 860, in <lambda>\n",
    "    'b64unicode': lambda x: utf_8_decode(b64decode(x))[0],\n",
    "  File \"/home/pyramid/py39/lib/python3.9/site-packages/pyramid/authentication.py\", line 669, in b64decode\n",
    "    return base64.b64decode(bytes_(v))\n",
    "  File \"/home/pyramid/py39/lib/python3.9/base64.py\", line 80, in b64decode\n",
    "    s = _bytes_from_decode_data(s)\n",
    "  File \"/home/pyramid/py39/lib/python3.9/base64.py\", line 40, in _bytes_from_decode_data\n",
    "    if isinstance(s, bytes_types):\n",
    "RecursionError: maximum recursion depth exceeded in __instancecheck__\n",
    "```\n",
    "初步判断是陷入循环了。\n",
    "\n"
   ]
  }
 ],
 "metadata": {
  "kernelspec": {
   "display_name": "Python 3 (ipykernel)",
   "language": "python",
   "name": "python3"
  },
  "language_info": {
   "codemirror_mode": {
    "name": "ipython",
    "version": 3
   },
   "file_extension": ".py",
   "mimetype": "text/x-python",
   "name": "python",
   "nbconvert_exporter": "python",
   "pygments_lexer": "ipython3",
   "version": "3.9.12"
  }
 },
 "nbformat": 4,
 "nbformat_minor": 5
}
